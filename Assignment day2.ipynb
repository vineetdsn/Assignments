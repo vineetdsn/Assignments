{
 "cells": [
  {
   "cell_type": "code",
   "execution_count": null,
   "metadata": {},
   "outputs": [],
   "source": [
    "#Write a Python program to print all Prime numbers in an Interval.\n",
    "\n",
    "upto = int(input())\n",
    "print(\"Prime numbers between\", num, \"and\", upto, \"are:\")\n",
    "for number in range(2, upto + 1):\n",
    "    if number > 1:\n",
    "        for i in range(2, number):\n",
    "            if (number % i) == 0:\n",
    "                break\n",
    "        else:\n",
    "            print(number)"
   ]
  },
  {
   "cell_type": "code",
   "execution_count": null,
   "metadata": {},
   "outputs": [],
   "source": [
    "# Write a Python Program for factorial of a number.\n",
    "\n",
    "number = int(input())\n",
    "factorial = 1\n",
    "if (number>=1):\n",
    "    for i in range(1,number+1):\n",
    "        factorial = factorial*i\n",
    "    print(\"The factorial of\",number,\"is\",factorial)\n"
   ]
  },
  {
   "cell_type": "code",
   "execution_count": null,
   "metadata": {},
   "outputs": [],
   "source": [
    "# Find the sum of n numbers by using the while loop\n",
    "\n",
    "numbers = int(input())\n",
    "sum = 0\n",
    "while(numbers > 0):  \n",
    "    sum += numbers  \n",
    "    numbers -= 1  \n",
    "print(\"The sum is\",sum) "
   ]
  }
 ],
 "metadata": {
  "kernelspec": {
   "display_name": "Python 3",
   "language": "python",
   "name": "python3"
  },
  "language_info": {
   "codemirror_mode": {
    "name": "ipython",
    "version": 3
   },
   "file_extension": ".py",
   "mimetype": "text/x-python",
   "name": "python",
   "nbconvert_exporter": "python",
   "pygments_lexer": "ipython3",
   "version": "3.8.5"
  }
 },
 "nbformat": 4,
 "nbformat_minor": 4
}
